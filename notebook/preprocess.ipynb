{
 "cells": [
  {
   "cell_type": "code",
   "execution_count": 4,
   "metadata": {},
   "outputs": [
    {
     "name": "stdout",
     "output_type": "stream",
     "text": [
      "\u001b[1;31merror\u001b[0m: \u001b[1mexternally-managed-environment\u001b[0m\n",
      "\n",
      "\u001b[31m×\u001b[0m This environment is externally managed\n",
      "\u001b[31m╰─>\u001b[0m To install Python packages system-wide, try apt install\n",
      "\u001b[31m   \u001b[0m python3-xyz, where xyz is the package you are trying to\n",
      "\u001b[31m   \u001b[0m install.\n",
      "\u001b[31m   \u001b[0m \n",
      "\u001b[31m   \u001b[0m If you wish to install a non-Debian-packaged Python package,\n",
      "\u001b[31m   \u001b[0m create a virtual environment using python3 -m venv path/to/venv.\n",
      "\u001b[31m   \u001b[0m Then use path/to/venv/bin/python and path/to/venv/bin/pip. Make\n",
      "\u001b[31m   \u001b[0m sure you have python3-full installed.\n",
      "\u001b[31m   \u001b[0m \n",
      "\u001b[31m   \u001b[0m If you wish to install a non-Debian packaged Python application,\n",
      "\u001b[31m   \u001b[0m it may be easiest to use pipx install xyz, which will manage a\n",
      "\u001b[31m   \u001b[0m virtual environment for you. Make sure you have pipx installed.\n",
      "\u001b[31m   \u001b[0m \n",
      "\u001b[31m   \u001b[0m See /usr/share/doc/python3.12/README.venv for more information.\n",
      "\n",
      "\u001b[1;35mnote\u001b[0m: If you believe this is a mistake, please contact your Python installation or OS distribution provider. You can override this, at the risk of breaking your Python installation or OS, by passing --break-system-packages.\n",
      "\u001b[1;36mhint\u001b[0m: See PEP 668 for the detailed specification.\n"
     ]
    }
   ],
   "source": [
    "!pip3 install pandas"
   ]
  },
  {
   "cell_type": "code",
   "execution_count": 1,
   "metadata": {},
   "outputs": [],
   "source": [
    "import os\n",
    "import json\n",
    "import pandas as pd\n",
    "import glob\n",
    "\n",
    "# Define the folder path where JSON files are stored\n",
    "folder_path = \"/mnt/faq/USERS/OSUN_USERS\"  # Change this to your folder path\n",
    "\n",
    "# Get a list of all JSON files in the folder\n",
    "json_files = glob.glob(os.path.join(folder_path, \"*.json\"))\n",
    "\n",
    "# List to store data from all JSON files\n",
    "all_data = []\n",
    "\n",
    "# Loop through each JSON file and read its content\n",
    "for file in json_files:\n",
    "    with open(file, \"r\", encoding=\"utf-8\") as f:\n",
    "        try:\n",
    "            data = json.load(f)  # Load JSON data\n",
    "            if isinstance(data, list):  # If it's a list of dictionaries, extend the list\n",
    "                all_data.extend(data)\n",
    "            else:  # If it's a single dictionary, append it as an element in the list\n",
    "                all_data.append(data)\n",
    "        except json.JSONDecodeError as e:\n",
    "            print(f\"Error reading {file}: {e}\")\n",
    "\n",
    "# Convert list of JSON objects to a Pandas DataFrame\n",
    "df = pd.DataFrame(all_data)\n",
    "\n",
    "# Show first few rows\n",
    "df.head()\n",
    "\n",
    "# # Save as CSV (optional)\n",
    "# df.to_csv(\"merged_output.csv\", index=False)\n",
    "\n",
    "# Find rows where the assistant's content contains the target phrase\n",
    "mask = df[\"content\"].str.contains(\"I'm sorry, but I don't have any information\", na=False)\n",
    "\n",
    "# Get the indices of the assistant responses that match\n",
    "indices = df[mask].index\n",
    "\n",
    "# Get both the user message before and the assistant message\n",
    "selected_indices = []\n",
    "for i in indices:\n",
    "    if i > 0 and df.loc[i - 1, \"role\"] == \"user\":  # Ensure previous message is from user\n",
    "        selected_indices.extend([i - 1, i])  # Add both user and assistant indices\n",
    "\n",
    "# Filter the DataFrame\n",
    "df_filtered = df.loc[selected_indices]\n",
    "\n",
    "# Show the filtered DataFrame\n",
    "df_filtered\n",
    "\n",
    "# # Save as CSV (optional)\n",
    "df_filtered.to_csv(\"merged_output.csv\", index=False)"
   ]
  },
  {
   "cell_type": "code",
   "execution_count": null,
   "metadata": {},
   "outputs": [],
   "source": []
  }
 ],
 "metadata": {
  "kernelspec": {
   "display_name": "faenv",
   "language": "python",
   "name": "python3"
  },
  "language_info": {
   "codemirror_mode": {
    "name": "ipython",
    "version": 3
   },
   "file_extension": ".py",
   "mimetype": "text/x-python",
   "name": "python",
   "nbconvert_exporter": "python",
   "pygments_lexer": "ipython3",
   "version": "3.9.16"
  }
 },
 "nbformat": 4,
 "nbformat_minor": 2
}
